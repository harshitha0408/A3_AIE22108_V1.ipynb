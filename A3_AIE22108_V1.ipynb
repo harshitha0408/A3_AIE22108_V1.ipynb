{
  "nbformat": 4,
  "nbformat_minor": 0,
  "metadata": {
    "colab": {
      "provenance": []
    },
    "kernelspec": {
      "name": "python3",
      "display_name": "Python 3"
    },
    "language_info": {
      "name": "python"
    }
  },
  "cells": [
    {
      "cell_type": "code",
      "execution_count": 2,
      "metadata": {
        "colab": {
          "base_uri": "https://localhost:8080/"
        },
        "id": "VyhwkcqfhgSi",
        "outputId": "efc6b74c-3f7f-4c43-bdba-490ae936708f"
      },
      "outputs": [
        {
          "output_type": "stream",
          "name": "stdout",
          "text": [
            "Matrix A (features details):\n",
            " [[20  6  2]\n",
            " [16  3  6]\n",
            " [27  6  2]\n",
            " [19  1  2]\n",
            " [24  4  2]\n",
            " [22  1  5]\n",
            " [15  4  2]\n",
            " [18  4  2]\n",
            " [21  1  4]\n",
            " [16  2  4]]\n",
            "Matrix C (payment details):\n",
            " [386 289 393 110 280 167 271 274 148 198]\n",
            "\n",
            "The dimensionality of the vector space is: 3\n",
            "The number of vectors in this vector space is: 10\n",
            "The rank of matrix A is: 3\n",
            "\n",
            "The pseudo-inverse of matrix A is:\n",
            " [[-0.01008596 -0.03124505  0.01013951  0.0290728   0.0182907   0.01161794\n",
            "  -0.00771348  0.00095458  0.01743623 -0.00542016]\n",
            " [ 0.09059668  0.07263726  0.03172933 -0.09071908 -0.01893196 -0.06926996\n",
            "   0.05675464  0.03152577 -0.07641966  0.00357352]\n",
            " [ 0.00299878  0.15874243 -0.05795468 -0.06609024 -0.06295043  0.03348017\n",
            "   0.01541831 -0.01070461  0.00029003  0.05938755]]\n"
          ]
        }
      ],
      "source": [
        "import numpy as np\n",
        "\n",
        "def extract_matrices(data):\n",
        "    A = data[:, :-1]\n",
        "    C = data[:, -1]\n",
        "    return A, C\n",
        "\n",
        "def calculate_dimensionality(A):\n",
        "    return A.shape[1]\n",
        "\n",
        "def calculate_num_vectors(A):\n",
        "    return A.shape[0]\n",
        "\n",
        "def calculate_rank(A):\n",
        "    return np.linalg.matrix_rank(A)\n",
        "\n",
        "def calculate_pseudoinverse(A):\n",
        "    return np.linalg.pinv(A)\n",
        "\n",
        "def main():\n",
        "    # Define the data\n",
        "    data = np.array([\n",
        "        [20, 6, 2, 386],\n",
        "        [16, 3, 6, 289],\n",
        "        [27, 6, 2, 393],\n",
        "        [19, 1, 2, 110],\n",
        "        [24, 4, 2, 280],\n",
        "        [22, 1, 5, 167],\n",
        "        [15, 4, 2, 271],\n",
        "        [18, 4, 2, 274],\n",
        "        [21, 1, 4, 148],\n",
        "        [16, 2, 4, 198]\n",
        "    ])\n",
        "\n",
        "    # Extract matrices A and C\n",
        "    A, C = extract_matrices(data)\n",
        "\n",
        "    # Print matrices A and C\n",
        "    print(\"Matrix A (features details):\\n\", A)\n",
        "    print(\"Matrix C (payment details):\\n\", C)\n",
        "\n",
        "    # Calculate and print dimensionality of the vector space\n",
        "    dimensionality = calculate_dimensionality(A)\n",
        "    print(\"\\nThe dimensionality of the vector space is:\", dimensionality)\n",
        "\n",
        "    # Calculate and print the number of vectors in the vector space\n",
        "    num_vectors = calculate_num_vectors(A)\n",
        "    print(\"The number of vectors in this vector space is:\", num_vectors)\n",
        "\n",
        "    # Calculate and print the rank of matrix A\n",
        "    rank_A = calculate_rank(A)\n",
        "    print(\"The rank of matrix A is:\", rank_A)\n",
        "\n",
        "    # Calculate and print the pseudo-inverse of matrix A\n",
        "    pseudoinv_A = calculate_pseudoinverse(A)\n",
        "    print(\"\\nThe pseudo-inverse of matrix A is:\\n\", pseudoinv_A)\n",
        "\n",
        "if __name__ == \"__main__\":\n",
        "    main()\n"
      ]
    },
    {
      "cell_type": "code",
      "source": [
        "import numpy as np\n",
        "\n",
        "def calculate_predictions(pseudoinv_A, C):\n",
        "    return np.dot(pseudoinv_A, C)\n",
        "\n",
        "def calculate_product_costs(A, predictions):\n",
        "    return np.dot(A, predictions)\n",
        "\n",
        "def main():\n",
        "    # Define the data\n",
        "    data = np.array([\n",
        "        [20, 6, 2, 386],\n",
        "        [16, 3, 6, 289],\n",
        "        [27, 6, 2, 393],\n",
        "        [19, 1, 2, 110],\n",
        "        [24, 4, 2, 280],\n",
        "        [22, 1, 5, 167],\n",
        "        [15, 4, 2, 271],\n",
        "        [18, 4, 2, 274],\n",
        "        [21, 1, 4, 148],\n",
        "        [16, 2, 4, 198]\n",
        "    ])\n",
        "\n",
        "    # Extract matrices A and C\n",
        "    A = data[:, :-1]\n",
        "    C = data[:, -1]\n",
        "\n",
        "    # Calculate the pseudo-inverse of matrix A\n",
        "    pseudoinv_A = np.linalg.pinv(A)\n",
        "\n",
        "    # Calculate the model vector 'predictions' for estimating the product costs\n",
        "    predictions = calculate_predictions(pseudoinv_A, C)\n",
        "    print(\"\\nThe model vector 'predictions' for estimating the product costs:\", predictions)\n",
        "\n",
        "    # Compute the estimated cost of each product\n",
        "    product_costs_estimated = calculate_product_costs(A, predictions)\n",
        "\n",
        "    print(\"\\nThe estimated cost of each product is as follows:\")\n",
        "    for i, cost in enumerate(product_costs_estimated):\n",
        "        print(f\"The estimated cost of Product {i+1} is: Rs.{cost:.2f}\")\n",
        "\n",
        "if __name__ == \"__main__\":\n",
        "    main()\n"
      ],
      "metadata": {
        "colab": {
          "base_uri": "https://localhost:8080/"
        },
        "id": "YFLGNaGWwUCD",
        "outputId": "f09d1b86-d686-4bae-8014-f1171af0bc29"
      },
      "execution_count": 3,
      "outputs": [
        {
          "output_type": "stream",
          "name": "stdout",
          "text": [
            "\n",
            "The model vector 'predictions' for estimating the product costs: [ 1. 55. 18.]\n",
            "\n",
            "The estimated cost of each product is as follows:\n",
            "The estimated cost of Product 1 is: Rs.386.00\n",
            "The estimated cost of Product 2 is: Rs.289.00\n",
            "The estimated cost of Product 3 is: Rs.393.00\n",
            "The estimated cost of Product 4 is: Rs.110.00\n",
            "The estimated cost of Product 5 is: Rs.280.00\n",
            "The estimated cost of Product 6 is: Rs.167.00\n",
            "The estimated cost of Product 7 is: Rs.271.00\n",
            "The estimated cost of Product 8 is: Rs.274.00\n",
            "The estimated cost of Product 9 is: Rs.148.00\n",
            "The estimated cost of Product 10 is: Rs.198.00\n"
          ]
        }
      ]
    },
    {
      "cell_type": "code",
      "source": [
        "import numpy as np\n",
        "\n",
        "def load_data():\n",
        "    # Loading all the data from the excel\n",
        "    purchase_data = np.array([\n",
        "        [20, 6, 2, 386],\n",
        "        [16, 3, 6, 289],\n",
        "        [27, 6, 2, 393],\n",
        "        [19, 1, 2, 110],\n",
        "        [24, 4, 2, 280],\n",
        "        [22, 1, 5, 167],\n",
        "        [15, 4, 2, 271],\n",
        "        [18, 4, 2, 274],\n",
        "        [21, 1, 4, 148],\n",
        "        [16, 2, 4, 198]\n",
        "    ])\n",
        "\n",
        "    # Create the binary data based on payment made\n",
        "    y_train = np.where(purchase_data[:, -1] > 200, 1, 0)\n",
        "    X_train = purchase_data[:, :-1]\n",
        "\n",
        "    return X_train, y_train\n",
        "\n",
        "def euclidean_distance(x1, x2):\n",
        "    return np.sqrt(np.sum((x1 - x2)**2))\n",
        "\n",
        "def knn_predict(X_train, y_train, x_test, k=3):\n",
        "    distances = []\n",
        "    for i, x_train in enumerate(X_train):\n",
        "        distance = euclidean_distance(x_train, x_test)\n",
        "        distances.append((distance, y_train[i]))\n",
        "    distances = sorted(distances)[:k]\n",
        "    counts = np.bincount([d[1] for d in distances])\n",
        "    return np.argmax(counts)\n",
        "\n",
        "def main():\n",
        "    # Load the data\n",
        "    X_train, y_train = load_data()\n",
        "\n",
        "    # Predict the class for each customer payment\n",
        "    print(\"Predicted Classes:\")\n",
        "    for i, customer in enumerate(X_train):\n",
        "        predicted_class = knn_predict(X_train, y_train, customer)\n",
        "        if predicted_class == 1:\n",
        "            print(f\"Customer {i+1} is: RICH\")\n",
        "        else:\n",
        "            print(f\"Customer {i+1} is: POOR\")\n",
        "\n",
        "if __name__ == \"__main__\":\n",
        "    main()\n"
      ],
      "metadata": {
        "colab": {
          "base_uri": "https://localhost:8080/"
        },
        "id": "C7pekwwWwWd7",
        "outputId": "2364ca34-8736-45cb-9214-060de178d055"
      },
      "execution_count": 4,
      "outputs": [
        {
          "output_type": "stream",
          "name": "stdout",
          "text": [
            "Predicted Classes:\n",
            "Customer 1 is: RICH\n",
            "Customer 2 is: RICH\n",
            "Customer 3 is: RICH\n",
            "Customer 4 is: POOR\n",
            "Customer 5 is: RICH\n",
            "Customer 6 is: POOR\n",
            "Customer 7 is: RICH\n",
            "Customer 8 is: RICH\n",
            "Customer 9 is: POOR\n",
            "Customer 10 is: RICH\n"
          ]
        }
      ]
    },
    {
      "cell_type": "code",
      "source": [
        "import pandas as pd\n",
        "import statistics\n",
        "import matplotlib.pyplot as plt\n",
        "\n",
        "# Load data from Excel file\n",
        "file_path = \"C:\\\\Users\\\\HP\\\\Downloads\\\\Lab Session1 Data.xlsx\"\n",
        "df_stock = pd.read_excel(file_path, sheet_name='IRCTC Stock Price')\n",
        "\n",
        "# Task 1: Calculate mean and variance of Price data\n",
        "price_mean = statistics.mean(df_stock['Price'])\n",
        "price_variance = statistics.variance(df_stock['Price'])\n",
        "\n",
        "print(f\"Mean of Price: {price_mean}\")\n",
        "print(f\"Variance of Price: {price_variance}\")\n",
        "\n",
        "# Task 2: Select price data for all Wednesdays and calculate sample mean\n",
        "wednesday_prices = df_stock[df_stock['Day'] == 'Wed']\n",
        "wednesday_prices=wednesday_prices['Price']\n",
        "wednesday_mean = statistics.mean(wednesday_prices)\n",
        "\n",
        "print(f\"Sample Mean of Wednesday Prices: {wednesday_mean}\")\n",
        "\n",
        "# Task 3: Select price data for the month of Apr and calculate sample mean\n",
        "april_prices = df_stock[df_stock['Month'] == 'Apr']\n",
        "april_prices=april_prices['Price']\n",
        "april_mean = statistics.mean(april_prices)\n",
        "\n",
        "print(f\"Sample Mean of April Prices: {april_mean}\")\n",
        "\n",
        "# Task 4: Probability of making a loss over the stock\n",
        "loss_probability = len(df_stock[df_stock['Chg%'] < 0]) / len(df_stock)\n",
        "print(f\"Probability of making a loss: {loss_probability}\")\n",
        "\n",
        "# Task 5: Probability of making a profit on Wednesday\n",
        "wednesday_profit_probability = len(wednesday_prices[wednesday_prices.diff() > 0]) / len(wednesday_prices)\n",
        "print(f\"Probability of making a profit on Wednesday: {wednesday_profit_probability}\")\n",
        "\n",
        "# Task 6: Conditional probability of making profit given today is Wednesday\n",
        "conditional_profit_given_wednesday = wednesday_profit_probability / len(df_stock[df_stock['Day'] == 'Wed'])\n",
        "print(f\"Conditional Probability of making profit given today is Wednesday: {conditional_profit_given_wednesday}\")\n",
        "\n",
        "# Task 7: Scatter plot of Chg% data against the day of the week\n",
        "plt.scatter(df_stock['Day'], df_stock['Chg%'])\n",
        "plt.xlabel('Day of the Week')\n",
        "plt.ylabel('Chg%')\n",
        "plt.title('Scatter Plot of Chg% against Day of the Week')\n",
        "plt.show()\n"
      ],
      "metadata": {
        "colab": {
          "base_uri": "https://localhost:8080/",
          "height": 356
        },
        "id": "d011-Xtvwky7",
        "outputId": "c624c5b6-591c-4184-b824-b5a107b14ae9"
      },
      "execution_count": 6,
      "outputs": [
        {
          "output_type": "error",
          "ename": "FileNotFoundError",
          "evalue": "[Errno 2] No such file or directory: 'C:\\\\Users\\\\HP\\\\Downloads\\\\Lab Session1 Data.xlsx'",
          "traceback": [
            "\u001b[0;31m---------------------------------------------------------------------------\u001b[0m",
            "\u001b[0;31mFileNotFoundError\u001b[0m                         Traceback (most recent call last)",
            "\u001b[0;32m<ipython-input-6-159555223845>\u001b[0m in \u001b[0;36m<cell line: 7>\u001b[0;34m()\u001b[0m\n\u001b[1;32m      5\u001b[0m \u001b[0;31m# Load data from Excel file\u001b[0m\u001b[0;34m\u001b[0m\u001b[0;34m\u001b[0m\u001b[0m\n\u001b[1;32m      6\u001b[0m \u001b[0mfile_path\u001b[0m \u001b[0;34m=\u001b[0m \u001b[0;34m\"C:\\\\Users\\\\HP\\\\Downloads\\\\Lab Session1 Data.xlsx\"\u001b[0m\u001b[0;34m\u001b[0m\u001b[0;34m\u001b[0m\u001b[0m\n\u001b[0;32m----> 7\u001b[0;31m \u001b[0mdf_stock\u001b[0m \u001b[0;34m=\u001b[0m \u001b[0mpd\u001b[0m\u001b[0;34m.\u001b[0m\u001b[0mread_excel\u001b[0m\u001b[0;34m(\u001b[0m\u001b[0mfile_path\u001b[0m\u001b[0;34m,\u001b[0m \u001b[0msheet_name\u001b[0m\u001b[0;34m=\u001b[0m\u001b[0;34m'IRCTC Stock Price'\u001b[0m\u001b[0;34m)\u001b[0m\u001b[0;34m\u001b[0m\u001b[0;34m\u001b[0m\u001b[0m\n\u001b[0m\u001b[1;32m      8\u001b[0m \u001b[0;34m\u001b[0m\u001b[0m\n\u001b[1;32m      9\u001b[0m \u001b[0;31m# Task 1: Calculate mean and variance of Price data\u001b[0m\u001b[0;34m\u001b[0m\u001b[0;34m\u001b[0m\u001b[0m\n",
            "\u001b[0;32m/usr/local/lib/python3.10/dist-packages/pandas/util/_decorators.py\u001b[0m in \u001b[0;36mwrapper\u001b[0;34m(*args, **kwargs)\u001b[0m\n\u001b[1;32m    209\u001b[0m                 \u001b[0;32melse\u001b[0m\u001b[0;34m:\u001b[0m\u001b[0;34m\u001b[0m\u001b[0;34m\u001b[0m\u001b[0m\n\u001b[1;32m    210\u001b[0m                     \u001b[0mkwargs\u001b[0m\u001b[0;34m[\u001b[0m\u001b[0mnew_arg_name\u001b[0m\u001b[0;34m]\u001b[0m \u001b[0;34m=\u001b[0m \u001b[0mnew_arg_value\u001b[0m\u001b[0;34m\u001b[0m\u001b[0;34m\u001b[0m\u001b[0m\n\u001b[0;32m--> 211\u001b[0;31m             \u001b[0;32mreturn\u001b[0m \u001b[0mfunc\u001b[0m\u001b[0;34m(\u001b[0m\u001b[0;34m*\u001b[0m\u001b[0margs\u001b[0m\u001b[0;34m,\u001b[0m \u001b[0;34m**\u001b[0m\u001b[0mkwargs\u001b[0m\u001b[0;34m)\u001b[0m\u001b[0;34m\u001b[0m\u001b[0;34m\u001b[0m\u001b[0m\n\u001b[0m\u001b[1;32m    212\u001b[0m \u001b[0;34m\u001b[0m\u001b[0m\n\u001b[1;32m    213\u001b[0m         \u001b[0;32mreturn\u001b[0m \u001b[0mcast\u001b[0m\u001b[0;34m(\u001b[0m\u001b[0mF\u001b[0m\u001b[0;34m,\u001b[0m \u001b[0mwrapper\u001b[0m\u001b[0;34m)\u001b[0m\u001b[0;34m\u001b[0m\u001b[0;34m\u001b[0m\u001b[0m\n",
            "\u001b[0;32m/usr/local/lib/python3.10/dist-packages/pandas/util/_decorators.py\u001b[0m in \u001b[0;36mwrapper\u001b[0;34m(*args, **kwargs)\u001b[0m\n\u001b[1;32m    329\u001b[0m                     \u001b[0mstacklevel\u001b[0m\u001b[0;34m=\u001b[0m\u001b[0mfind_stack_level\u001b[0m\u001b[0;34m(\u001b[0m\u001b[0;34m)\u001b[0m\u001b[0;34m,\u001b[0m\u001b[0;34m\u001b[0m\u001b[0;34m\u001b[0m\u001b[0m\n\u001b[1;32m    330\u001b[0m                 )\n\u001b[0;32m--> 331\u001b[0;31m             \u001b[0;32mreturn\u001b[0m \u001b[0mfunc\u001b[0m\u001b[0;34m(\u001b[0m\u001b[0;34m*\u001b[0m\u001b[0margs\u001b[0m\u001b[0;34m,\u001b[0m \u001b[0;34m**\u001b[0m\u001b[0mkwargs\u001b[0m\u001b[0;34m)\u001b[0m\u001b[0;34m\u001b[0m\u001b[0;34m\u001b[0m\u001b[0m\n\u001b[0m\u001b[1;32m    332\u001b[0m \u001b[0;34m\u001b[0m\u001b[0m\n\u001b[1;32m    333\u001b[0m         \u001b[0;31m# error: \"Callable[[VarArg(Any), KwArg(Any)], Any]\" has no\u001b[0m\u001b[0;34m\u001b[0m\u001b[0;34m\u001b[0m\u001b[0m\n",
            "\u001b[0;32m/usr/local/lib/python3.10/dist-packages/pandas/io/excel/_base.py\u001b[0m in \u001b[0;36mread_excel\u001b[0;34m(io, sheet_name, header, names, index_col, usecols, squeeze, dtype, engine, converters, true_values, false_values, skiprows, nrows, na_values, keep_default_na, na_filter, verbose, parse_dates, date_parser, thousands, decimal, comment, skipfooter, convert_float, mangle_dupe_cols, storage_options)\u001b[0m\n\u001b[1;32m    480\u001b[0m     \u001b[0;32mif\u001b[0m \u001b[0;32mnot\u001b[0m \u001b[0misinstance\u001b[0m\u001b[0;34m(\u001b[0m\u001b[0mio\u001b[0m\u001b[0;34m,\u001b[0m \u001b[0mExcelFile\u001b[0m\u001b[0;34m)\u001b[0m\u001b[0;34m:\u001b[0m\u001b[0;34m\u001b[0m\u001b[0;34m\u001b[0m\u001b[0m\n\u001b[1;32m    481\u001b[0m         \u001b[0mshould_close\u001b[0m \u001b[0;34m=\u001b[0m \u001b[0;32mTrue\u001b[0m\u001b[0;34m\u001b[0m\u001b[0;34m\u001b[0m\u001b[0m\n\u001b[0;32m--> 482\u001b[0;31m         \u001b[0mio\u001b[0m \u001b[0;34m=\u001b[0m \u001b[0mExcelFile\u001b[0m\u001b[0;34m(\u001b[0m\u001b[0mio\u001b[0m\u001b[0;34m,\u001b[0m \u001b[0mstorage_options\u001b[0m\u001b[0;34m=\u001b[0m\u001b[0mstorage_options\u001b[0m\u001b[0;34m,\u001b[0m \u001b[0mengine\u001b[0m\u001b[0;34m=\u001b[0m\u001b[0mengine\u001b[0m\u001b[0;34m)\u001b[0m\u001b[0;34m\u001b[0m\u001b[0;34m\u001b[0m\u001b[0m\n\u001b[0m\u001b[1;32m    483\u001b[0m     \u001b[0;32melif\u001b[0m \u001b[0mengine\u001b[0m \u001b[0;32mand\u001b[0m \u001b[0mengine\u001b[0m \u001b[0;34m!=\u001b[0m \u001b[0mio\u001b[0m\u001b[0;34m.\u001b[0m\u001b[0mengine\u001b[0m\u001b[0;34m:\u001b[0m\u001b[0;34m\u001b[0m\u001b[0;34m\u001b[0m\u001b[0m\n\u001b[1;32m    484\u001b[0m         raise ValueError(\n",
            "\u001b[0;32m/usr/local/lib/python3.10/dist-packages/pandas/io/excel/_base.py\u001b[0m in \u001b[0;36m__init__\u001b[0;34m(self, path_or_buffer, engine, storage_options)\u001b[0m\n\u001b[1;32m   1650\u001b[0m                 \u001b[0mext\u001b[0m \u001b[0;34m=\u001b[0m \u001b[0;34m\"xls\"\u001b[0m\u001b[0;34m\u001b[0m\u001b[0;34m\u001b[0m\u001b[0m\n\u001b[1;32m   1651\u001b[0m             \u001b[0;32melse\u001b[0m\u001b[0;34m:\u001b[0m\u001b[0;34m\u001b[0m\u001b[0;34m\u001b[0m\u001b[0m\n\u001b[0;32m-> 1652\u001b[0;31m                 ext = inspect_excel_format(\n\u001b[0m\u001b[1;32m   1653\u001b[0m                     \u001b[0mcontent_or_path\u001b[0m\u001b[0;34m=\u001b[0m\u001b[0mpath_or_buffer\u001b[0m\u001b[0;34m,\u001b[0m \u001b[0mstorage_options\u001b[0m\u001b[0;34m=\u001b[0m\u001b[0mstorage_options\u001b[0m\u001b[0;34m\u001b[0m\u001b[0;34m\u001b[0m\u001b[0m\n\u001b[1;32m   1654\u001b[0m                 )\n",
            "\u001b[0;32m/usr/local/lib/python3.10/dist-packages/pandas/io/excel/_base.py\u001b[0m in \u001b[0;36minspect_excel_format\u001b[0;34m(content_or_path, storage_options)\u001b[0m\n\u001b[1;32m   1523\u001b[0m         \u001b[0mcontent_or_path\u001b[0m \u001b[0;34m=\u001b[0m \u001b[0mBytesIO\u001b[0m\u001b[0;34m(\u001b[0m\u001b[0mcontent_or_path\u001b[0m\u001b[0;34m)\u001b[0m\u001b[0;34m\u001b[0m\u001b[0;34m\u001b[0m\u001b[0m\n\u001b[1;32m   1524\u001b[0m \u001b[0;34m\u001b[0m\u001b[0m\n\u001b[0;32m-> 1525\u001b[0;31m     with get_handle(\n\u001b[0m\u001b[1;32m   1526\u001b[0m         \u001b[0mcontent_or_path\u001b[0m\u001b[0;34m,\u001b[0m \u001b[0;34m\"rb\"\u001b[0m\u001b[0;34m,\u001b[0m \u001b[0mstorage_options\u001b[0m\u001b[0;34m=\u001b[0m\u001b[0mstorage_options\u001b[0m\u001b[0;34m,\u001b[0m \u001b[0mis_text\u001b[0m\u001b[0;34m=\u001b[0m\u001b[0;32mFalse\u001b[0m\u001b[0;34m\u001b[0m\u001b[0;34m\u001b[0m\u001b[0m\n\u001b[1;32m   1527\u001b[0m     ) as handle:\n",
            "\u001b[0;32m/usr/local/lib/python3.10/dist-packages/pandas/io/common.py\u001b[0m in \u001b[0;36mget_handle\u001b[0;34m(path_or_buf, mode, encoding, compression, memory_map, is_text, errors, storage_options)\u001b[0m\n\u001b[1;32m    863\u001b[0m         \u001b[0;32melse\u001b[0m\u001b[0;34m:\u001b[0m\u001b[0;34m\u001b[0m\u001b[0;34m\u001b[0m\u001b[0m\n\u001b[1;32m    864\u001b[0m             \u001b[0;31m# Binary mode\u001b[0m\u001b[0;34m\u001b[0m\u001b[0;34m\u001b[0m\u001b[0m\n\u001b[0;32m--> 865\u001b[0;31m             \u001b[0mhandle\u001b[0m \u001b[0;34m=\u001b[0m \u001b[0mopen\u001b[0m\u001b[0;34m(\u001b[0m\u001b[0mhandle\u001b[0m\u001b[0;34m,\u001b[0m \u001b[0mioargs\u001b[0m\u001b[0;34m.\u001b[0m\u001b[0mmode\u001b[0m\u001b[0;34m)\u001b[0m\u001b[0;34m\u001b[0m\u001b[0;34m\u001b[0m\u001b[0m\n\u001b[0m\u001b[1;32m    866\u001b[0m         \u001b[0mhandles\u001b[0m\u001b[0;34m.\u001b[0m\u001b[0mappend\u001b[0m\u001b[0;34m(\u001b[0m\u001b[0mhandle\u001b[0m\u001b[0;34m)\u001b[0m\u001b[0;34m\u001b[0m\u001b[0;34m\u001b[0m\u001b[0m\n\u001b[1;32m    867\u001b[0m \u001b[0;34m\u001b[0m\u001b[0m\n",
            "\u001b[0;31mFileNotFoundError\u001b[0m: [Errno 2] No such file or directory: 'C:\\\\Users\\\\HP\\\\Downloads\\\\Lab Session1 Data.xlsx'"
          ]
        }
      ]
    },
    {
      "cell_type": "code",
      "source": [],
      "metadata": {
        "id": "lkBQXnhHweAQ"
      },
      "execution_count": null,
      "outputs": []
    },
    {
      "cell_type": "code",
      "source": [],
      "metadata": {
        "id": "8t-6ekVVleoc"
      },
      "execution_count": null,
      "outputs": []
    }
  ]
}